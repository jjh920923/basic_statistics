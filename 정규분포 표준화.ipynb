{
 "cells": [
  {
   "cell_type": "code",
   "execution_count": 1,
   "metadata": {},
   "outputs": [],
   "source": [
    "import math\n",
    "import PIL.Image as pilimg"
   ]
  },
  {
   "cell_type": "code",
   "execution_count": 2,
   "metadata": {},
   "outputs": [
    {
     "data": {
      "image/png": "[encoded data removed]",
      "text/plain": [
       "<PIL.PngImagePlugin.PngImageFile image mode=RGBA size=262x146 at 0x2201224C788>"
      ]
     },
     "execution_count": 2,
     "metadata": {},
     "output_type": "execute_result"
    }
   ],
   "source": [
    "formula = pilimg.open(\"C:\\\\Users\\\\Msi\\\\Desktop\\\\통계 프로그래밍 연습\\\\정규분포 표준화 공식.png\")\n",
    "formula"
   ]
  },
  {
   "cell_type": "code",
   "execution_count": 3,
   "metadata": {},
   "outputs": [],
   "source": [
    "# 변수가 정규분포를 따를 때 개별 자료에 관한 정보를 얻기 위해 사용한다.\n",
    "def normalization(X, mu, std):\n",
    "    Z = (X - mu) / std\n",
    "    print(\"Z = \", format(Z, \".3f\"))"
   ]
  },
  {
   "cell_type": "code",
   "execution_count": 4,
   "metadata": {},
   "outputs": [
    {
     "name": "stdout",
     "output_type": "stream",
     "text": [
      "Z =  0.468\n"
     ]
    }
   ],
   "source": [
    "normalization(160, 146.21, 29.44)"
   ]
  },
  {
   "cell_type": "code",
   "execution_count": 5,
   "metadata": {},
   "outputs": [],
   "source": [
    "# 변수가 정규분포이거나 표본크기가 30이상인 경우 중심극한정리를 응용하여 표본평균에\n",
    "# 관한 정보를 얻기 위해 사용한다.\n",
    "def normalization_sample(X, mu, std, n):\n",
    "    Z = (X - mu) / (std / math.sqrt(n))\n",
    "    print(\"Z = \", format(Z, \".3f\"))"
   ]
  },
  {
   "cell_type": "code",
   "execution_count": 6,
   "metadata": {},
   "outputs": [
    {
     "name": "stdout",
     "output_type": "stream",
     "text": [
      "Z =  1.417\n"
     ]
    }
   ],
   "source": [
    "normalization_sample(224, 218.4, 25, 40)"
   ]
  }
 ],
 "metadata": {
  "kernelspec": {
   "display_name": "Python 3",
   "language": "python",
   "name": "python3"
  },
  "language_info": {
   "codemirror_mode": {
    "name": "ipython",
    "version": 3
   },
   "file_extension": ".py",
   "mimetype": "text/x-python",
   "name": "python",
   "nbconvert_exporter": "python",
   "pygments_lexer": "ipython3",
   "version": "3.7.6"
  }
 },
 "nbformat": 4,
 "nbformat_minor": 4
}

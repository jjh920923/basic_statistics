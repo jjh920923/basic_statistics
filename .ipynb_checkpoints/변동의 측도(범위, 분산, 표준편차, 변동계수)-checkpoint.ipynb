{
 "cells": [
  {
   "cell_type": "code",
   "execution_count": 1,
   "metadata": {},
   "outputs": [],
   "source": [
    "import math\n",
    "import PIL.Image as pilimg"
   ]
  },
  {
   "cell_type": "code",
   "execution_count": 2,
   "metadata": {},
   "outputs": [],
   "source": [
    "data = [10, 60, 50, 30, 40, 20]"
   ]
  },
  {
   "cell_type": "code",
   "execution_count": 3,
   "metadata": {},
   "outputs": [],
   "source": [
    "# 모집단에서의 분산과 표준편차 and 범위\n",
    "def measures_of_dispersion(data):\n",
    "    Range = max(data) - min(data)\n",
    "    mean = sum(data) / len(data)\n",
    "    var = 0\n",
    "    for i in data:\n",
    "        var = var + math.pow(float(i) - mean, 2)\n",
    "    var = var / len(data)\n",
    "    std = math.sqrt(var)\n",
    "    print(\"-----------------------\")\n",
    "    print(\"모집단에서의 변동의 측도\")\n",
    "    print(\"mean  : \" + str(format(mean, \".2f\")))\n",
    "    print(\"var   : \" + str(format(var, \".2f\")))\n",
    "    print(\"std   : \" + str(format(std, \".2f\")))\n",
    "    print(\"range : \" + str(format(Range, \".2f\")))\n",
    "    print(\"-----------------------\")"
   ]
  },
  {
   "cell_type": "code",
   "execution_count": 4,
   "metadata": {},
   "outputs": [
    {
     "name": "stdout",
     "output_type": "stream",
     "text": [
      "-----------------------\n",
      "모집단에서의 변동의 측도\n",
      "mean  : 35.00\n",
      "var   : 291.67\n",
      "std   : 17.08\n",
      "range : 50.00\n",
      "-----------------------\n"
     ]
    }
   ],
   "source": [
    "measures_of_dispersion(data)"
   ]
  },
  {
   "cell_type": "code",
   "execution_count": 5,
   "metadata": {},
   "outputs": [],
   "source": [
    "# 표본에서의 분산과 표준편차 and 범위\n",
    "def measures_of_dispersion_sample(data):\n",
    "    Range = max(data) - min(data)\n",
    "    mean = sum(data) / len(data)\n",
    "    var = 0\n",
    "    for i in data:\n",
    "        var = var + math.pow(float(i) - mean, 2)\n",
    "    var = var / (len(data) - 1)\n",
    "    std = math.sqrt(var)\n",
    "    print(\"----------------------\")\n",
    "    print(\"표본에서의 변동의 측도\")\n",
    "    print(\"mean  : \" + str(format(mean, \".2f\")))\n",
    "    print(\"var   : \" + str(format(var, \".2f\")))\n",
    "    print(\"std   : \" + str(format(std, \".2f\")))\n",
    "    print(\"range : \" + str(format(Range, \".2f\")))\n",
    "    print(\"----------------------\")"
   ]
  },
  {
   "cell_type": "code",
   "execution_count": 6,
   "metadata": {},
   "outputs": [
    {
     "name": "stdout",
     "output_type": "stream",
     "text": [
      "----------------------\n",
      "표본에서의 변동의 측도\n",
      "mean  : 35.00\n",
      "var   : 350.00\n",
      "std   : 18.71\n",
      "range : 50.00\n",
      "----------------------\n"
     ]
    }
   ],
   "source": [
    "measures_of_dispersion_sample(data)"
   ]
  },
  {
   "cell_type": "code",
   "execution_count": 7,
   "metadata": {},
   "outputs": [
    {
     "data": {
      "image/png": "[encoded data removed]",
      "text/plain": [
       "<PIL.PngImagePlugin.PngImageFile image mode=RGBA size=177x79 at 0x14F78CD5B08>"
      ]
     },
     "execution_count": 7,
     "metadata": {},
     "output_type": "execute_result"
    }
   ],
   "source": [
    "# 변동계수\n",
    "formula = pilimg.open(\"C:\\\\Users\\\\Msi\\\\Desktop\\\\통계 프로그래밍 연습\\\\변동계수 공식.png\")\n",
    "formula"
   ]
  },
  {
   "cell_type": "code",
   "execution_count": 8,
   "metadata": {},
   "outputs": [],
   "source": [
    "def coefficient_of_variation(mean, std):\n",
    "    CVar = (std / mean) * 100\n",
    "    print(\"---------\")\n",
    "    print(\"변동계수\")\n",
    "    print(format(CVar, \".2f\")+\"%\")\n",
    "    print(\"---------\")"
   ]
  },
  {
   "cell_type": "code",
   "execution_count": 9,
   "metadata": {},
   "outputs": [
    {
     "name": "stdout",
     "output_type": "stream",
     "text": [
      "---------\n",
      "변동계수\n",
      "5.75%\n",
      "---------\n",
      "---------\n",
      "변동계수\n",
      "14.79%\n",
      "---------\n"
     ]
    }
   ],
   "source": [
    "# 아래의 변동계수가 더 크므로 아래의 데이터가 변동이 더 크다.\n",
    "coefficient_of_variation(87, 5)\n",
    "coefficient_of_variation(5225, 773)"
   ]
  }
 ],
 "metadata": {
  "kernelspec": {
   "display_name": "Python 3",
   "language": "python",
   "name": "python3"
  },
  "language_info": {
   "codemirror_mode": {
    "name": "ipython",
    "version": 3
   },
   "file_extension": ".py",
   "mimetype": "text/x-python",
   "name": "python",
   "nbconvert_exporter": "python",
   "pygments_lexer": "ipython3",
   "version": "3.7.6"
  }
 },
 "nbformat": 4,
 "nbformat_minor": 4
}

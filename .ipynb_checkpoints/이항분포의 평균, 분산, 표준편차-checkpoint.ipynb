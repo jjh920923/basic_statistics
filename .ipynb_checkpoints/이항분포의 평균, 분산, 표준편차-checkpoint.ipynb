{
 "cells": [
  {
   "cell_type": "code",
   "execution_count": 1,
   "metadata": {},
   "outputs": [],
   "source": [
    "import math\n",
    "import PIL.Image as pilimg"
   ]
  },
  {
   "cell_type": "code",
   "execution_count": 2,
   "metadata": {},
   "outputs": [
    {
     "data": {
      "image/png": "[encoded data removed]",
      "text/plain": [
       "<PIL.PngImagePlugin.PngImageFile image mode=RGBA size=192x108 at 0x1AC063741C8>"
      ]
     },
     "execution_count": 2,
     "metadata": {},
     "output_type": "execute_result"
    }
   ],
   "source": [
    "formula = pilimg.open(\"C:\\\\Users\\\\Msi\\\\Desktop\\\\통계 프로그래밍 연습\\\\이항분포의 평균, 분산, 표준편차.png\")\n",
    "formula"
   ]
  },
  {
   "cell_type": "code",
   "execution_count": 3,
   "metadata": {},
   "outputs": [],
   "source": [
    "def binomial_distribution(n, p):\n",
    "    mean = n*p\n",
    "    var = n*p*(1-p)\n",
    "    std = math.sqrt(var)\n",
    "    print(\"-------------\")\n",
    "    print(\"mean : \" + format(mean, \".3f\"))\n",
    "    print(\"var  : \" + format(var, \".3f\"))\n",
    "    print(\"std  : \" + format(std, \".3f\"))\n",
    "    print(\"-------------\")\n",
    "    return"
   ]
  },
  {
   "cell_type": "code",
   "execution_count": 4,
   "metadata": {},
   "outputs": [
    {
     "name": "stdout",
     "output_type": "stream",
     "text": [
      "-------------\n",
      "mean : 2.000\n",
      "var  : 1.000\n",
      "std  : 1.000\n",
      "-------------\n"
     ]
    }
   ],
   "source": [
    "binomial_distribution(4, 0.5)"
   ]
  },
  {
   "cell_type": "code",
   "execution_count": 5,
   "metadata": {},
   "outputs": [
    {
     "name": "stdout",
     "output_type": "stream",
     "text": [
      "-------------\n",
      "mean : 60.000\n",
      "var  : 50.000\n",
      "std  : 7.071\n",
      "-------------\n"
     ]
    }
   ],
   "source": [
    "binomial_distribution(360, 1/6)"
   ]
  }
 ],
 "metadata": {
  "kernelspec": {
   "display_name": "Python 3",
   "language": "python",
   "name": "python3"
  },
  "language_info": {
   "codemirror_mode": {
    "name": "ipython",
    "version": 3
   },
   "file_extension": ".py",
   "mimetype": "text/x-python",
   "name": "python",
   "nbconvert_exporter": "python",
   "pygments_lexer": "ipython3",
   "version": "3.7.6"
  }
 },
 "nbformat": 4,
 "nbformat_minor": 4
}

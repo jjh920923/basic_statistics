{
 "cells": [
  {
   "cell_type": "code",
   "execution_count": 1,
   "metadata": {},
   "outputs": [],
   "source": [
    "import math\n",
    "import scipy.stats as st\n",
    "import PIL.Image as pilimg"
   ]
  },
  {
   "cell_type": "code",
   "execution_count": 2,
   "metadata": {},
   "outputs": [],
   "source": [
    "# 분산과 표준편차에 대한 카이제곱 검정\n",
    "# 하나의 분산 혹은 표준편차에 대한 주장을 검정하기 위해 사용된다.\n",
    "\n",
    "# 하나의 분산에 대한 카이제곱 검정을 위한 가정들\n",
    "# 1. 표본은 모집단으로부터 임의로 뽑혀져야한다.\n",
    "# 2. 연구 중인 변수에 대해 모집단은 정규분포를 해야 한다.\n",
    "# 3. 관찰값들은 서로 독립이어야 한다."
   ]
  },
  {
   "cell_type": "code",
   "execution_count": 3,
   "metadata": {},
   "outputs": [
    {
     "data": {
      "image/png": "[encoded data removed]",
      "text/plain": [
       "<PIL.PngImagePlugin.PngImageFile image mode=RGBA size=207x91 at 0x17B0D9CF608>"
      ]
     },
     "execution_count": 3,
     "metadata": {},
     "output_type": "execute_result"
    }
   ],
   "source": [
    "formula = pilimg.open(\"C:\\\\Users\\\\Msi\\\\Desktop\\\\통계 프로그래밍 연습\\\\하나의 분산에 대한 카이제곱 검정을 위한 공식.png\")\n",
    "formula"
   ]
  },
  {
   "cell_type": "code",
   "execution_count": 4,
   "metadata": {},
   "outputs": [],
   "source": [
    "def chi_square_cv(s, sigma, n, alpha, side_type):\n",
    "    X_square = ((n-1)*math.pow(s, 2)) / math.pow(sigma, 2)\n",
    "    if side_type == 'left':\n",
    "        cv = st.chi2.ppf(alpha, n-1)\n",
    "        if cv <= X_square:\n",
    "            print(\"검정값 {:.3f}이 임계값 {:.3f} 안에 포함되기 때문에 귀무가설을 기각한다.\".format(X_square, cv))\n",
    "        else:\n",
    "            print(\"검정값 {:.3f}이 임계값 {:.3f} 밖에 있기 때문에 귀무가설을 기각하지 않는다.\".format(X_square, cv))\n",
    "    elif side_type == 'right':\n",
    "        cv = st.chi2.ppf(1-alpha, n-1)\n",
    "        if X_square <= cv:\n",
    "            print(\"검정값 {:.3f}이 임계값 {:.3f} 안에 포함되기 때문에 귀무가설을 기각한다.\".format(X_square, cv))\n",
    "        else:\n",
    "            print(\"검정값 {:.3f}이 임계값 {:.3f} 밖에 있기 때문에 귀무가설을 기각하지 않는다.\".format(X_square, cv))\n",
    "    elif side_type == 'both':\n",
    "        cv_left = st.chi2.ppf(alpha/2, n-1)\n",
    "        cv_right = st.chi2.ppf(1-(alpha/2), n-1)\n",
    "        if X_square <= cv_left:\n",
    "            print(\"검정값 {:.3f}이 임계값 {:.3f} 안에 포함되기 때문에 때문에 귀무가설을 기각한다.\".format(X_square, cv_left))\n",
    "        elif cv_right <= X_square:\n",
    "            print(\"검정값 {:.3f}이 임계값 {:.3f} 안에 포함되기 때문에 때문에 귀무가설을 기각한다.\".format(X_square, cv_right))\n",
    "        else:\n",
    "            print(\"검정값 {:.3f}이 임계값 {:.3f}와 임계값 {:.3f} 사이에 있기 때문에 귀무가설을 기각하지 않는다.\".format(X_square, cv_left, cv_right))\n",
    "    else:\n",
    "        print(\"side_type을 left, right, both 중에 골라주세요.\")"
   ]
  },
  {
   "cell_type": "code",
   "execution_count": 5,
   "metadata": {},
   "outputs": [
    {
     "name": "stdout",
     "output_type": "stream",
     "text": [
      "검정값 27.440이 임계값 21.064 밖에 있기 때문에 귀무가설을 기각하지 않는다.\n"
     ]
    }
   ],
   "source": [
    "chi_square_cv(11.2, 8, 15, 0.1, 'right')"
   ]
  },
  {
   "cell_type": "code",
   "execution_count": 6,
   "metadata": {},
   "outputs": [
    {
     "name": "stdout",
     "output_type": "stream",
     "text": [
      "검정값 19.360이 임계값 12.338 안에 포함되기 때문에 귀무가설을 기각한다.\n"
     ]
    }
   ],
   "source": [
    "chi_square_cv(math.sqrt(198), math.sqrt(225), 23, 0.05, 'left')"
   ]
  },
  {
   "cell_type": "code",
   "execution_count": 7,
   "metadata": {},
   "outputs": [
    {
     "name": "stdout",
     "output_type": "stream",
     "text": [
      "검정값 29.503이 임계값 8.907와 임계값 32.852 사이에 있기 때문에 귀무가설을 기각하지 않는다.\n"
     ]
    }
   ],
   "source": [
    "chi_square_cv(1, math.sqrt(0.644), 20, 0.05, 'both')"
   ]
  }
 ],
 "metadata": {
  "kernelspec": {
   "display_name": "Python 3",
   "language": "python",
   "name": "python3"
  },
  "language_info": {
   "codemirror_mode": {
    "name": "ipython",
    "version": 3
   },
   "file_extension": ".py",
   "mimetype": "text/x-python",
   "name": "python",
   "nbconvert_exporter": "python",
   "pygments_lexer": "ipython3",
   "version": "3.7.6"
  }
 },
 "nbformat": 4,
 "nbformat_minor": 4
}

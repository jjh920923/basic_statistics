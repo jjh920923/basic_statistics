{
 "cells": [
  {
   "cell_type": "code",
   "execution_count": 1,
   "metadata": {},
   "outputs": [],
   "source": [
    "import pandas as pd"
   ]
  },
  {
   "cell_type": "code",
   "execution_count": 2,
   "metadata": {},
   "outputs": [],
   "source": [
    "# 백분위수 공식\n",
    "# 백분위수 = (X 보다 작은 값의 수 + 0.5 / 전체 자료수) * 100\n",
    "data = [18, 15, 12, 6, 8, 2, 3, 5, 20, 10]"
   ]
  },
  {
   "cell_type": "code",
   "execution_count": 3,
   "metadata": {},
   "outputs": [],
   "source": [
    "def percentiles(data, n):\n",
    "    count = 0\n",
    "    for i in data:\n",
    "        if i < n:\n",
    "            count = count + 1\n",
    "    percent = ((count + 0.5) / len(data)) * 100\n",
    "    print(\"--------------------\")\n",
    "    print(str(n) + \"의 백분위수\")\n",
    "    print(\"percentiles : \" + format(percent, \".1f\")+\"%\")\n",
    "    print(\"--------------------\")"
   ]
  },
  {
   "cell_type": "code",
   "execution_count": 4,
   "metadata": {},
   "outputs": [
    {
     "name": "stdout",
     "output_type": "stream",
     "text": [
      "--------------------\n",
      "12의 백분위수\n",
      "percentiles : 65.0%\n",
      "--------------------\n"
     ]
    }
   ],
   "source": [
    "percentiles(data, 12)"
   ]
  },
  {
   "cell_type": "code",
   "execution_count": 5,
   "metadata": {},
   "outputs": [
    {
     "name": "stdout",
     "output_type": "stream",
     "text": [
      "제 1 사분위수(Q1)의 지점은 5.25입니다.\n",
      "제 2 사분위수(Q2)의 지점은 9.0입니다.\n",
      "제 3 사분위수(Q3)의 지점은 14.25입니다.\n"
     ]
    }
   ],
   "source": [
    "# 사분위수 : 데이터 표본을 4개의 동일한 부분으로 나눈 값\n",
    "df = pd.DataFrame(data)\n",
    "print(\"제 1 사분위수(Q1)의 지점은 \" + str(df.quantile(0.25)[0]) + \"입니다.\")\n",
    "print(\"제 2 사분위수(Q2)의 지점은 \" + str(df.quantile(0.5)[0]) + \"입니다.\")\n",
    "print(\"제 3 사분위수(Q3)의 지점은 \" + str(df.quantile(0.75)[0]) + \"입니다.\")"
   ]
  }
 ],
 "metadata": {
  "kernelspec": {
   "display_name": "Python 3",
   "language": "python",
   "name": "python3"
  },
  "language_info": {
   "codemirror_mode": {
    "name": "ipython",
    "version": 3
   },
   "file_extension": ".py",
   "mimetype": "text/x-python",
   "name": "python",
   "nbconvert_exporter": "python",
   "pygments_lexer": "ipython3",
   "version": "3.7.6"
  }
 },
 "nbformat": 4,
 "nbformat_minor": 4
}

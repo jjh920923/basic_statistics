{
 "cells": [
  {
   "cell_type": "code",
   "execution_count": 1,
   "metadata": {},
   "outputs": [],
   "source": [
    "import math\n",
    "import scipy.stats as st\n",
    "import PIL.Image as pilimg"
   ]
  },
  {
   "cell_type": "code",
   "execution_count": 2,
   "metadata": {},
   "outputs": [
    {
     "data": {
      "image/png": "[encoded data removed]",
      "text/plain": [
       "<PIL.PngImagePlugin.PngImageFile image mode=RGBA size=156x89 at 0x27E528EFF88>"
      ]
     },
     "execution_count": 2,
     "metadata": {},
     "output_type": "execute_result"
    }
   ],
   "source": [
    "formula = pilimg.open(\"C:\\\\Users\\\\Msi\\\\Desktop\\\\통계 프로그래밍 연습\\\\평균에 대한 z검정.png\")\n",
    "formula"
   ]
  },
  {
   "cell_type": "code",
   "execution_count": 3,
   "metadata": {},
   "outputs": [],
   "source": [
    "def Z_test_pvalue(mu, X_bar, sigma, n, alpha, side_type):\n",
    "    z = (X_bar - mu) / (sigma / math.sqrt(n))\n",
    "    if side_type == 'left':\n",
    "        p_value = st.norm.cdf(z)\n",
    "        if p_value <= alpha:\n",
    "            print(\"P-value는 {:.4f}이고 alpha 값 {} 보다 작기 때문에 귀무가설을 기각한다.\".format(p_value, alpha))\n",
    "        else:\n",
    "            print(\"P-value는 {:.4f}이고 alpha 값 {} 보다 크기 때문에 귀무가설을 기각하지 않는다.\".format(p_value, alpha))\n",
    "    elif side_type == 'right':\n",
    "        p_value = 1 - st.norm.cdf(z)\n",
    "        if p_value <= alpha:\n",
    "            print(\"P-value는 {:.4f}이고 alpha 값 {} 보다 작기 때문에 귀무가설을 기각한다.\".format(p_value, alpha))\n",
    "        else:\n",
    "            print(\"P-value는 {:.4f}이고 alpha 값 {} 보다 크기 때문에 귀무가설을 기각하지 않는다.\".format(p_value, alpha))\n",
    "    elif side_type == 'both':\n",
    "        p_value = 2*(1 - st.norm.cdf(z))\n",
    "        if p_value <= alpha:\n",
    "            print(\"P-value는 {:.4f}이고 alpha 값 {} 보다 작기 때문에 귀무가설을 기각한다.\".format(p_value, alpha))\n",
    "        else:\n",
    "            print(\"P-value는 {:.4f}이고 alpha 값 {} 보다 크기 때문에 귀무가설을 기각하지 않는다.\".format(p_value, alpha))\n",
    "    else:\n",
    "        print(\"side_type을 left, right, both 중에 골라주세요.\")"
   ]
  },
  {
   "cell_type": "code",
   "execution_count": 4,
   "metadata": {},
   "outputs": [
    {
     "name": "stdout",
     "output_type": "stream",
     "text": [
      "P-value는 0.0114이고 alpha 값 0.05 보다 작기 때문에 귀무가설을 기각한다.\n"
     ]
    }
   ],
   "source": [
    "Z_test_pvalue(5700, 5950, 659, 36, 0.05, 'right')"
   ]
  },
  {
   "cell_type": "code",
   "execution_count": 5,
   "metadata": {},
   "outputs": [
    {
     "name": "stdout",
     "output_type": "stream",
     "text": [
      "P-value는 0.0593이고 alpha 값 0.05 보다 크기 때문에 귀무가설을 기각하지 않는다.\n"
     ]
    }
   ],
   "source": [
    "Z_test_pvalue(8, 8.2, 0.6, 32, 0.05, 'both')"
   ]
  },
  {
   "cell_type": "code",
   "execution_count": 6,
   "metadata": {},
   "outputs": [
    {
     "name": "stdout",
     "output_type": "stream",
     "text": [
      "P-value는 0.0591이고 alpha 값 0.1 보다 작기 때문에 귀무가설을 기각한다.\n"
     ]
    }
   ],
   "source": [
    "Z_test_pvalue(80, 75, 19.2, 36, 0.1, 'left')"
   ]
  }
 ],
 "metadata": {
  "kernelspec": {
   "display_name": "Python 3",
   "language": "python",
   "name": "python3"
  },
  "language_info": {
   "codemirror_mode": {
    "name": "ipython",
    "version": 3
   },
   "file_extension": ".py",
   "mimetype": "text/x-python",
   "name": "python",
   "nbconvert_exporter": "python",
   "pygments_lexer": "ipython3",
   "version": "3.7.6"
  }
 },
 "nbformat": 4,
 "nbformat_minor": 4
}

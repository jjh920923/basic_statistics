{
 "cells": [
  {
   "cell_type": "code",
   "execution_count": 1,
   "metadata": {},
   "outputs": [],
   "source": [
    "import math\n",
    "from scipy.special import stdtrit\n",
    "import PIL.Image as pilimg"
   ]
  },
  {
   "cell_type": "code",
   "execution_count": 2,
   "metadata": {},
   "outputs": [
    {
     "data": {
      "image/png": "[encoded data removed]",
      "text/plain": [
       "<PIL.PngImagePlugin.PngImageFile image mode=RGBA size=328x168 at 0x21E293E5988>"
      ]
     },
     "execution_count": 2,
     "metadata": {},
     "output_type": "execute_result"
    }
   ],
   "source": [
    "formula = pilimg.open(\"C:\\\\Users\\\\Msi\\\\Desktop\\\\통계 프로그래밍 연습\\\\독립표본의 두 평균의 차이 검정(t검정).png\")\n",
    "formula"
   ]
  },
  {
   "cell_type": "code",
   "execution_count": 3,
   "metadata": {},
   "outputs": [],
   "source": [
    "def T_test_cv(X1, X2, mu1, mu2, s1, s2, n1, n2, alpha, side_type):\n",
    "    t = ((X1 - X2) - (mu1 - mu2)) / ((math.sqrt(math.pow(s1, 2)/n1 + math.pow(s2, 2)/n2)))\n",
    "    n = min([n1, n2])\n",
    "    if side_type == 'right':\n",
    "        cv = stdtrit(n-1, 1-alpha)\n",
    "        if cv <= t:\n",
    "            print(\"검정값 {:.3f}이 임계값은 {:.3f} 안에 포함되기 때문에 귀무가설을 기각한다.\".format(t, cv))\n",
    "        else:\n",
    "            print(\"검정값 {:.3f}이 임계값은 {:.3f} 밖에 있기 때문에 귀무가설을 기각하지 않는다.\".format(t, cv))\n",
    "    elif side_type == 'left':\n",
    "        cv = stdtrit(n-1, alpha)\n",
    "        if t <= cv:\n",
    "            print(\"검정값 {:.3f}이 임계값은 {:.3f} 안에 포함되기 때문에 귀무가설을 기각한다.\".format(t, cv))\n",
    "        else:\n",
    "            print(\"검정값 {:.3f}이 임계값은 {:.3f} 밖에 있기 때문에 귀무가설을 기각하지 않는다.\".format(t, cv))\n",
    "    elif side_type == 'both':\n",
    "        cv_left = stdtrit(n-1, alpha/2)\n",
    "        cv_right = stdtrit(n-1, 1-(alpha/2))\n",
    "        if t <= cv_left:\n",
    "            print(\"검정값 {:.3f}이 임계값은 {:.3f} 안에 포함되기 때문에 귀무가설을 기각한다.\".format(t, cv_left))\n",
    "        elif cv_right <= t:\n",
    "            print(\"검정값 {:.3f}이 임계값은 {:.3f} 안에 포함되기 때문에 귀무가설을 기각한다.\".format(t, cv_right))\n",
    "        else:\n",
    "            print(\"검정값 {:.3f}이 임계값 {:.3f}와 임계값 {:.3f} 사이에 있기 때문에 귀무가설을 기각하지 않는다.\".format(t, cv_left, cv_right))\n",
    "    else:\n",
    "        print(\"side_type을 left, right, both 중에 골라주세요.\")"
   ]
  },
  {
   "cell_type": "code",
   "execution_count": 4,
   "metadata": {},
   "outputs": [
    {
     "name": "stdout",
     "output_type": "stream",
     "text": [
      "검정값 -0.573이 임계값 -2.365와 임계값 2.365 사이에 있기 때문에 귀무가설을 기각하지 않는다.\n"
     ]
    }
   ],
   "source": [
    "T_test_cv(191, 199, 0, 0, 38, 12, 8, 10, 0.05, \"both\")"
   ]
  }
 ],
 "metadata": {
  "kernelspec": {
   "display_name": "Python 3",
   "language": "python",
   "name": "python3"
  },
  "language_info": {
   "codemirror_mode": {
    "name": "ipython",
    "version": 3
   },
   "file_extension": ".py",
   "mimetype": "text/x-python",
   "name": "python",
   "nbconvert_exporter": "python",
   "pygments_lexer": "ipython3",
   "version": "3.7.6"
  }
 },
 "nbformat": 4,
 "nbformat_minor": 4
}

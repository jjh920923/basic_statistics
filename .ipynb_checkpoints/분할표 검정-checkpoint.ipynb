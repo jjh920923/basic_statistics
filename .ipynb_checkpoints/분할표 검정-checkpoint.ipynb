{
 "cells": [
  {
   "cell_type": "code",
   "execution_count": 1,
   "metadata": {},
   "outputs": [],
   "source": [
    "import pandas as pd\n",
    "import numpy as np\n",
    "import math\n",
    "import scipy.stats as st\n",
    "import PIL.Image as pilimg"
   ]
  },
  {
   "cell_type": "code",
   "execution_count": 2,
   "metadata": {},
   "outputs": [],
   "source": [
    "# 분할표 검정(test using contingency tables)\n",
    "# 카이제곱 독립성 검정을 위해 자료가 표형태로 정열되어을 때 이 표를 분할표라고 한다.\n",
    "\n",
    "# 독립성 검정(test for independence) - 카이제곱 검정\n",
    "# 두 변수 사이의 독립성을 검정하는 것이다.\n",
    "# ex) 귀무가설 H0 : 새로운 처리기법에 대한 선호도는 그룹과는 상관이 없다.\n",
    "#     대립가설 H1 : 새로운 처리기법에 대한 선호도는 그룹에 따라 다르다."
   ]
  },
  {
   "cell_type": "code",
   "execution_count": 3,
   "metadata": {},
   "outputs": [
    {
     "data": {
      "image/png": "[encoded data removed]",
      "text/plain": [
       "<PIL.PngImagePlugin.PngImageFile image mode=RGBA size=782x160 at 0x2643F078708>"
      ]
     },
     "execution_count": 3,
     "metadata": {},
     "output_type": "execute_result"
    }
   ],
   "source": [
    "formula = pilimg.open(\"C:\\\\Users\\\\Msi\\\\Desktop\\\\통계 프로그래밍 연습\\\\분할표 검정 공식.png\")\n",
    "formula"
   ]
  },
  {
   "cell_type": "code",
   "execution_count": 4,
   "metadata": {},
   "outputs": [],
   "source": [
    "data = {\"new\" : [100, 50], \"old\" : [80, 120], \"not all\" : [20, 30]}\n",
    "index = [\"nurse\", \"doctor\"]\n",
    "df = pd.DataFrame(data, index = index)\n",
    "\n",
    "data = {\"high\" : [15, 8, 6], \"universe\" : [12, 15, 8], \"graduate\" : [8, 9, 7]}\n",
    "index = [\"urban\", \"suburb\", \"countryside\"]\n",
    "df2 = pd.DataFrame(data, index = index)"
   ]
  },
  {
   "cell_type": "code",
   "execution_count": 5,
   "metadata": {},
   "outputs": [],
   "source": [
    "def chi_square_cv(df, alpha, side_type):\n",
    "    degree_freedom = (np.shape(df)[0] - 1)*(np.shape(df)[1] - 1)\n",
    "    \n",
    "    row_sum = [sum(df.iloc[i,:]) for i in range(np.shape(df)[0])]\n",
    "    col_sum = [sum(df.iloc[:,i]) for i in range(np.shape(df)[1])]\n",
    "\n",
    "    X_square = 0\n",
    "    for  i in range(len(row_sum)):\n",
    "        for j in range(len(col_sum)):\n",
    "            df_E = (row_sum[i]*col_sum[j]) / sum(row_sum)\n",
    "            X_square = X_square + (math.pow(df.iloc[i, j] - df_E, 2) / df_E)\n",
    "            \n",
    "    if side_type == 'left':\n",
    "        cv = st.chi2.ppf(alpha, degree_freedom)\n",
    "        if X_square <= cv:\n",
    "            print(\"검정값 {:.3f}이 임계값은 {:.3f} 안에 포함되기 때문에 귀무가설을 기각한다.\".format(X_square, cv))\n",
    "        else:\n",
    "            print(\"검정값 {:.3f}이 임계값은 {:.3f} 밖에 있기 때문에 귀무가설을 기각하지 않는다.\".format(X_square, cv))\n",
    "    elif side_type == 'right':\n",
    "        cv = st.chi2.ppf(1-alpha, degree_freedom)\n",
    "        if cv <= X_square:\n",
    "            print(\"검정값 {:.3f}이 임계값 {:.3f} 안에 포함되기 때문에 귀무가설을 기각한다.\".format(X_square, cv))\n",
    "        else:\n",
    "            print(\"검정값 {:.3f}이 임계값 {:.3f} 밖에 있기 때문에 귀무가설을 기각하지 않는다.\".format(X_square, cv))\n",
    "    elif side_type == 'both':\n",
    "        cv_left = st.chi2.ppf(alpha/2, degree_freedom)\n",
    "        cv_right = st.chi2.ppf(1-(alpha/2), degree_freedom)\n",
    "        if X_square <= cv_left:\n",
    "            print(\"검정값 {:.3f}이 임계값은 {:.3f} 안에 포함되기 때문에 때문에 귀무가설을 기각한다.\".format(X_square, cv_left))\n",
    "        elif cv_right <= X_square:\n",
    "            print(\"검정값 {:.3f}이 임계값은 {:.3f} 안에 포함되기 때문에 때문에 귀무가설을 기각한다.\".format(X_square, cv_right))\n",
    "        else:\n",
    "            print(\"검정값 {:.3f}이 임계값 {:.3f}와 임계값 {:.3f} 사이에 있기 때문에 귀무가설을 기각하지 않는다.\".format(X_square, cv_left, cv_right))\n",
    "    else:\n",
    "        print(\"side_type을 left, right, both 중에 골라주세요.\")"
   ]
  },
  {
   "cell_type": "code",
   "execution_count": 6,
   "metadata": {},
   "outputs": [
    {
     "name": "stdout",
     "output_type": "stream",
     "text": [
      "검정값 26.667이 임계값 5.991 안에 포함되기 때문에 귀무가설을 기각한다.\n"
     ]
    }
   ],
   "source": [
    "chi_square_cv(df, 0.05, 'right')"
   ]
  },
  {
   "cell_type": "code",
   "execution_count": 7,
   "metadata": {},
   "outputs": [
    {
     "name": "stdout",
     "output_type": "stream",
     "text": [
      "검정값 3.006이 임계값 9.488 밖에 있기 때문에 귀무가설을 기각하지 않는다.\n"
     ]
    }
   ],
   "source": [
    "chi_square_cv(df2, 0.05, 'right')"
   ]
  }
 ],
 "metadata": {
  "kernelspec": {
   "display_name": "Python 3",
   "language": "python",
   "name": "python3"
  },
  "language_info": {
   "codemirror_mode": {
    "name": "ipython",
    "version": 3
   },
   "file_extension": ".py",
   "mimetype": "text/x-python",
   "name": "python",
   "nbconvert_exporter": "python",
   "pygments_lexer": "ipython3",
   "version": "3.7.6"
  }
 },
 "nbformat": 4,
 "nbformat_minor": 4
}

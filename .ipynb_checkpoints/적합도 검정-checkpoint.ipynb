{
 "cells": [
  {
   "cell_type": "code",
   "execution_count": 1,
   "metadata": {},
   "outputs": [],
   "source": [
    "import pandas as pd\n",
    "import math\n",
    "import scipy.stats as st\n",
    "import PIL.Image as pilimg"
   ]
  },
  {
   "cell_type": "code",
   "execution_count": 2,
   "metadata": {},
   "outputs": [
    {
     "data": {
      "image/png": "[encoded data removed]",
      "text/plain": [
       "<PIL.PngImagePlugin.PngImageFile image mode=RGBA size=782x99 at 0x2A238EA60C8>"
      ]
     },
     "execution_count": 2,
     "metadata": {},
     "output_type": "execute_result"
    }
   ],
   "source": [
    "# 적합도 검정(test for goodness of fit) - 카이제곱\n",
    "# 어떤 도수분포가 특정한 패턴을 따르는가를 검정하고자 할 때 사용한다.\n",
    "# 귀무가설 H0 : 소비자들의 과일음료 선호도에는 차이가 없다.\n",
    "# 귀무가설 H1 : 소비자들의 과일음료 선호도에는 차이가 있다.\n",
    "\n",
    "# 카이제곱 적합도 검정을 위한 가정\n",
    "# 1. 자료는 임의의 표본이어야 한다.\n",
    "# 2. 각 범주에 기대도수는 5 이상이어야 한다.\n",
    "\n",
    "# 카이제곱 적합도 검정은 변수들이 정규분포를 따르는지 판단할 때도 이용한다.\n",
    "\n",
    "formula = pilimg.open(\"C:\\\\Users\\\\Msi\\\\Desktop\\\\통계 프로그래밍 연습\\\\적합도 검정 공식.png\")\n",
    "formula"
   ]
  },
  {
   "cell_type": "code",
   "execution_count": 3,
   "metadata": {},
   "outputs": [],
   "source": [
    "data = {\"관측도수\" : [32, 28, 16, 14, 10], \"기대도수\" : [20, 20, 20, 20, 20]}\n",
    "index = [\"cherry\", \"strawberry\", \"orange\", \"lime\", \"grape\"]\n",
    "df = pd.DataFrame(data, index = index)\n",
    " \n",
    "\n",
    "data = {\"관측도수\" : [122, 85, 76, 17], \"기대도수\" : [114, 96, 69, 21]}\n",
    "df2 = pd.DataFrame(data)"
   ]
  },
  {
   "cell_type": "code",
   "execution_count": 4,
   "metadata": {},
   "outputs": [],
   "source": [
    "def chi_square_cv(df, n, alpha, side_type):\n",
    "    X_square = 0\n",
    "    for i, j in zip(df[\"관측도수\"], df[\"기대도수\"]):\n",
    "        X_square = X_square + math.pow(i - j, 2) / j\n",
    "    if side_type == 'left':\n",
    "        cv = st.chi2.ppf(alpha, n-1)\n",
    "        if X_square <= cv:\n",
    "            print(\"검정값 {:.3f}이 임계값 {:.3f} 안에 포함되기 때문에 귀무가설을 기각한다.\".format(X_square, cv))\n",
    "        else:\n",
    "            print(\"검정값 {:.3f}이 임계값 {:.3f} 밖에 있기 때문에 귀무가설을 기각하지 않는다.\".format(X_square, cv))\n",
    "    elif side_type == 'right':\n",
    "        cv = st.chi2.ppf(1-alpha, n-1)\n",
    "        if cv <= X_square:\n",
    "            print(\"검정값 {:.3f}이 임계값 {:.3f} 안에 포함되기 때문에 귀무가설을 기각한다.\".format(X_square, cv))\n",
    "        else:\n",
    "            print(\"검정값 {:.3f}이 임계값 {:.3f} 밖에 있기 때문에 귀무가설을 기각하지 않는다.\".format(X_square, cv))\n",
    "    elif side_type == 'both':\n",
    "        cv_left = st.chi2.ppf(alpha/2, n-1)\n",
    "        cv_right = st.chi2.ppf(1-(alpha/2), n-1)\n",
    "        if X_square <= cv_left:\n",
    "            print(\"검정값 {:.3f}이 임계값 {:.3f} 안에 포함되기 때문에 때문에 귀무가설을 기각한다.\".format(X_square, cv_left))\n",
    "        elif cv_right <= X_square:\n",
    "            print(\"검정값 {:.3f}이 임계값 {:.3f} 안에 포함되기 때문에 때문에 귀무가설을 기각한다.\".format(X_square, cv_right))\n",
    "        else:\n",
    "            print(\"검정값 {:.3f}이 임계값 {:.3f}와 임계값 {:.3f} 사이에 있기 때문에 귀무가설을 기각하지 않는다.\".format(X_square, cv_left, cv_right))\n",
    "    else:\n",
    "        print(\"side_type을 left, right, both 중에 골라주세요.\")    "
   ]
  },
  {
   "cell_type": "code",
   "execution_count": 5,
   "metadata": {},
   "outputs": [
    {
     "name": "stdout",
     "output_type": "stream",
     "text": [
      "검정값 18.000이 임계값 9.488 안에 포함되기 때문에 귀무가설을 기각한다.\n"
     ]
    }
   ],
   "source": [
    "chi_square_cv(df, 5, 0.05, 'right')"
   ]
  },
  {
   "cell_type": "code",
   "execution_count": 6,
   "metadata": {},
   "outputs": [
    {
     "name": "stdout",
     "output_type": "stream",
     "text": [
      "검정값 3.294이 임계값 6.251 밖에 있기 때문에 귀무가설을 기각하지 않는다.\n"
     ]
    }
   ],
   "source": [
    "chi_square_cv(df2, 4, 0.1, 'right')"
   ]
  }
 ],
 "metadata": {
  "kernelspec": {
   "display_name": "Python 3",
   "language": "python",
   "name": "python3"
  },
  "language_info": {
   "codemirror_mode": {
    "name": "ipython",
    "version": 3
   },
   "file_extension": ".py",
   "mimetype": "text/x-python",
   "name": "python",
   "nbconvert_exporter": "python",
   "pygments_lexer": "ipython3",
   "version": "3.7.6"
  }
 },
 "nbformat": 4,
 "nbformat_minor": 4
}

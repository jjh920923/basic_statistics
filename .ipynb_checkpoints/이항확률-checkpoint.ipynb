{
 "cells": [
  {
   "cell_type": "code",
   "execution_count": 3,
   "metadata": {},
   "outputs": [],
   "source": [
    "import math\n",
    "import PIL.Image as pilimg"
   ]
  },
  {
   "cell_type": "code",
   "execution_count": 4,
   "metadata": {},
   "outputs": [
    {
     "data": {
      "image/png": "[encoded data removed]",
      "text/plain": [
       "<PIL.PngImagePlugin.PngImageFile image mode=RGBA size=447x66 at 0x1E93C432588>"
      ]
     },
     "execution_count": 4,
     "metadata": {},
     "output_type": "execute_result"
    }
   ],
   "source": [
    "formula = pilimg.open(\"C:\\\\Users\\\\Msi\\\\Desktop\\\\basic_statistics\\\\이항확률 공식.png\")\n",
    "formula"
   ]
  },
  {
   "cell_type": "code",
   "execution_count": 5,
   "metadata": {},
   "outputs": [],
   "source": [
    "def binomial_probability(n, X, p):\n",
    "    prob = (math.factorial(n) / (math.factorial(n-X) * math.factorial(X))) * math.pow(p, X) * math.pow(1-p, n-X)\n",
    "    prob = float(format(prob, \".3f\"))\n",
    "    return prob"
   ]
  },
  {
   "cell_type": "code",
   "execution_count": 6,
   "metadata": {},
   "outputs": [
    {
     "data": {
      "text/plain": [
       "0.201"
      ]
     },
     "execution_count": 6,
     "metadata": {},
     "output_type": "execute_result"
    }
   ],
   "source": [
    "binomial_probability(10, 3, 1/5)"
   ]
  },
  {
   "cell_type": "code",
   "execution_count": 7,
   "metadata": {},
   "outputs": [],
   "source": [
    "# 예제 5-19 (한 밤중 집에 혼자 있을 때 느끼는 공포에 대한 조사)\n",
    "# 미국인의 5%는 한 밤중에 집에 혼자 있을 때 공포를 느낀다고 한다.\n",
    "# 20명의 미국인을 확률적으로 선택할 때, 다음의 확률을 구하시오.\n",
    "# a. 한 밤중에 집에 혼자 있을 때 공포를 느끼는 사람이 5명인 경우\n",
    "# b. 한 밤중에 집에 혼자 있을 때 공포를 느끼는 사람이 많아야 3명인 경우\n",
    "# c. 한 밤중에 집에 혼자 있을 때 공포를 느끼는 사람이 최소한 3명인 경우"
   ]
  },
  {
   "cell_type": "code",
   "execution_count": 8,
   "metadata": {},
   "outputs": [
    {
     "data": {
      "text/plain": [
       "0.002"
      ]
     },
     "execution_count": 8,
     "metadata": {},
     "output_type": "execute_result"
    }
   ],
   "source": [
    "# 문제 a\n",
    "binomial_probability(20, 5, 0.05)"
   ]
  },
  {
   "cell_type": "code",
   "execution_count": 9,
   "metadata": {},
   "outputs": [
    {
     "name": "stdout",
     "output_type": "stream",
     "text": [
      "0.984\n"
     ]
    }
   ],
   "source": [
    "# 문제 b\n",
    "result = 0\n",
    "for i in range(4):\n",
    "    result = result + binomial_probability(20, i, 0.05)\n",
    "print(result)"
   ]
  },
  {
   "cell_type": "code",
   "execution_count": 10,
   "metadata": {},
   "outputs": [
    {
     "name": "stdout",
     "output_type": "stream",
     "text": [
      "0.076\n"
     ]
    }
   ],
   "source": [
    "# 문제 c\n",
    "result = 0\n",
    "for i in range(3):\n",
    "    result = result + binomial_probability(20, i, 0.05)\n",
    "answer = float(format(1 - result, \".3f\"))\n",
    "print(answer)"
   ]
  }
 ],
 "metadata": {
  "kernelspec": {
   "display_name": "Python 3",
   "language": "python",
   "name": "python3"
  },
  "language_info": {
   "codemirror_mode": {
    "name": "ipython",
    "version": 3
   },
   "file_extension": ".py",
   "mimetype": "text/x-python",
   "name": "python",
   "nbconvert_exporter": "python",
   "pygments_lexer": "ipython3",
   "version": "3.7.6"
  }
 },
 "nbformat": 4,
 "nbformat_minor": 4
}

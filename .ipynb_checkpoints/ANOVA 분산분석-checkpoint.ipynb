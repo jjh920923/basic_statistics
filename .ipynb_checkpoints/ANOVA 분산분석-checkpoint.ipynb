{
 "cells": [
  {
   "cell_type": "code",
   "execution_count": 1,
   "metadata": {},
   "outputs": [],
   "source": [
    "import numpy as np\n",
    "import pandas as pd\n",
    "import math\n",
    "from scipy.stats import f\n",
    "import PIL.Image as pilimg"
   ]
  },
  {
   "cell_type": "code",
   "execution_count": 2,
   "metadata": {},
   "outputs": [],
   "source": [
    "# 분산분석(analysis of variance, ANOVA)\n",
    "# 세 개 이상의 모집단 평균에 관한 가설 검정을 위하여 F 검정을 사용할 때 이 기법을 분산분석이라 한다.\n",
    "\n",
    "# 세 개 이상의 표본평균들을 비교할 때 t 검정을 사용하면 안되는 이유\n",
    "# 1. 한 번에 두 개의 평균을 비교할 때 두 평균이외의 다른 평균들은 고려되지 않고 있다.\n",
    "# 2. 한 번에 두 개의 평균을 비교하면서 모든 짝들에 대해 비교하면 귀무가설이 사실일 때 귀무가설을 \n",
    "#    기각할 확률이 증가한다.\n",
    "# 3. 비교하여야 할 평균이 많아 질수록 더 많은 t검정을 해야 한다.\n",
    "\n",
    "# 세 개 이상의 평균 비교에서 F 검정 사용을 위한 가정\n",
    "# 1. 표본 추출한 모집단이 정규분포 또는 근사적으로 정규분포를 따라야 한다.\n",
    "# 2. 표본들은 서로 독립이어야 한다.\n",
    "# 3. 모집단들의 분산은 같아야 한다."
   ]
  },
  {
   "cell_type": "code",
   "execution_count": 3,
   "metadata": {},
   "outputs": [
    {
     "data": {
      "image/png": "[encoded data removed]",
      "text/plain": [
       "<PIL.PngImagePlugin.PngImageFile image mode=RGBA size=274x356 at 0x122EB2A7A88>"
      ]
     },
     "execution_count": 3,
     "metadata": {},
     "output_type": "execute_result"
    }
   ],
   "source": [
    "formula = pilimg.open(\"C:\\\\Users\\\\Msi\\\\Desktop\\\\통계 프로그래밍 연습\\\\분산분석표.png\")\n",
    "formula"
   ]
  },
  {
   "cell_type": "code",
   "execution_count": 4,
   "metadata": {},
   "outputs": [],
   "source": [
    "data = {\"medicine\" : [10, 12, 9, 15, 13], \"exercise\" : [6, 8, 3, 0, 2], \"diet\" : [5, 9, 12, 8, 4]}\n",
    "df = pd.DataFrame(data)\n",
    "\n",
    "data = {\"PT\" : [7, 14, 32, 19, 10, 11], \"GB\" : [10, 1, 1, 0, 11, 1], \"BVE\" : [1, 12, 1, 9, 1, 11]}\n",
    "df2 = pd.DataFrame(data)"
   ]
  },
  {
   "cell_type": "code",
   "execution_count": 5,
   "metadata": {},
   "outputs": [],
   "source": [
    "def F_test_cv(df, alpha, side_type):\n",
    "    X_mean = [df.iloc[:,i].mean() for i in range(np.shape(df)[1])]\n",
    "    var = [df.iloc[:,i].var() for i in range(np.shape(df)[1])]\n",
    "\n",
    "    dfN = len(data) - 1\n",
    "    n = np.shape(df)[0] * np.shape(df)[1]\n",
    "    dfD = n - dfN\n",
    "    X_GM = df.mean().mean()\n",
    "\n",
    "    varB = [((np.shape(df)[0]*math.pow(i - X_GM, 2)) / (len(data) - 1)) for i in X_mean]\n",
    "    varW = [(((np.shape(df)[0] - 1)*i) / ((np.shape(df)[0] - 1) * np.shape(df)[1])) for i in var]\n",
    "\n",
    "    F = sum(varB) / sum(varW)\n",
    "    \n",
    "    if side_type == 'left':\n",
    "        cv = f.ppf(alpha, dfN, dfD)\n",
    "        if F < cv:\n",
    "            print(\"검정값 {:.3f}이 임계값 {:.3f} 안에 포함되기 때문에 귀무가설을 기각한다.\".format(F, cv))\n",
    "        else:\n",
    "            print(\"검정값 {:.3f}이 임계값 {:.3f} 밖에 있기 때문에 귀무가설을 기각하지 않는다.\".format(F, cv))    \n",
    "    elif side_type == 'right':\n",
    "        cv = f.ppf(1-alpha, dfN, dfD)\n",
    "        if cv < F:\n",
    "            print(\"검정값 {:.3f}이 임계값 {:.3f} 안에 포함되기 때문에 귀무가설을 기각한다.\".format(F, cv))\n",
    "        else:\n",
    "            print(\"검정값 {:.3f}이 임계값 {:.3f} 밖에 있기 때문에 귀무가설을 기각하지 않는다.\".format(F, cv))\n",
    "    elif side_type == 'both':\n",
    "        cv_left = f.ppf(alpha/2, dfN, dfD)\n",
    "        cv_right = f.ppf(1-(alpha/2), dfN, dfD)\n",
    "        if F < cv_left:\n",
    "            print(\"검정값 {:.3f}이 임계값 {:.3f} 안에 포함되기 때문에 귀무가설을 기각한다.\".format(F, cv_left))\n",
    "        elif cv_right <= F:\n",
    "            print(\"검정값 {:.3f}이 임계값 {:.3f} 안에 포함되기 때문에 귀무가설을 기각한다.\".format(F, cv_right))\n",
    "        else:\n",
    "            print(\"검정값 {:.3f}이 임계값 {:.3f}와 임계값 {:.3f} 사이에 있기 때문에 귀무가설을 기각하지 않는다.\".format(F, cv_left, cv_right))\n",
    "    else:\n",
    "        print(\"side_type을 left, right, both 중에 골라주세요.\")"
   ]
  },
  {
   "cell_type": "code",
   "execution_count": 6,
   "metadata": {},
   "outputs": [
    {
     "name": "stdout",
     "output_type": "stream",
     "text": [
      "검정값 9.168이 임계값 3.806 안에 포함되기 때문에 귀무가설을 기각한다.\n"
     ]
    }
   ],
   "source": [
    "F_test_cv(df, 0.05, 'right')"
   ]
  },
  {
   "cell_type": "code",
   "execution_count": 7,
   "metadata": {},
   "outputs": [
    {
     "name": "stdout",
     "output_type": "stream",
     "text": [
      "검정값 5.035이 임계값 3.634 안에 포함되기 때문에 귀무가설을 기각한다.\n"
     ]
    }
   ],
   "source": [
    "F_test_cv(df2, 0.05, 'right')"
   ]
  }
 ],
 "metadata": {
  "kernelspec": {
   "display_name": "Python 3",
   "language": "python",
   "name": "python3"
  },
  "language_info": {
   "codemirror_mode": {
    "name": "ipython",
    "version": 3
   },
   "file_extension": ".py",
   "mimetype": "text/x-python",
   "name": "python",
   "nbconvert_exporter": "python",
   "pygments_lexer": "ipython3",
   "version": "3.7.6"
  }
 },
 "nbformat": 4,
 "nbformat_minor": 4
}

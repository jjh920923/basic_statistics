{
 "cells": [
  {
   "cell_type": "code",
   "execution_count": 1,
   "metadata": {},
   "outputs": [],
   "source": [
    "import math\n",
    "from scipy.stats import f\n",
    "import PIL.Image as pilimg"
   ]
  },
  {
   "cell_type": "code",
   "execution_count": 2,
   "metadata": {},
   "outputs": [],
   "source": [
    "# 두 분산 또는 표준편차를 비교하기 위해서는 F 검정이 사용된다.\n",
    "# ex) 남성의 클레스테롤 분산과 여성의 클레스테롤 분산을 비교하는데 흥미가 있을 수 있다.\n",
    "\n",
    "# F 분포의 특성\n",
    "# 1. F 값은 분산은 항상 양이거나 0이기 때문에 음이 될 수 없다.\n",
    "# 2. 분포는 오른편으로 기울어져 있다.\n",
    "# 3. F의 평균값은 근사적으로 1과 같다.\n",
    "# 4. F 분포는 분자의 분산의 자유도와 분모의 분산의 자유도에 근거한 곡선의 족이다.\n",
    "\n",
    "# F 검정의 사용에 대한 유념해야 할 점\n",
    "# 5. 더 큰 분산이 첨자에 상관없이 공식의 분자에 항상 두어야 한다.\n",
    "# 6. 양쪽 꼬리 검정에 대해서 alpha 값은 2로 나누어야 하고 임계값은 F 곡선의 오른쪽에 둔다.\n",
    "# 7. 분산 대신에 표준편차가 문제에서 주어진다면 F 검정의 공식에 제곱해야 한다.\n",
    "# 8. 자유도가 표 H에서 알 수 없을 때 작은 쪽에 있는 가장 가까운 값이 사용되어야 한다."
   ]
  },
  {
   "cell_type": "code",
   "execution_count": 3,
   "metadata": {},
   "outputs": [
    {
     "data": {
      "image/png": "[encoded data removed]",
      "text/plain": [
       "<PIL.PngImagePlugin.PngImageFile image mode=RGBA size=125x103 at 0x27E3E99DA08>"
      ]
     },
     "execution_count": 3,
     "metadata": {},
     "output_type": "execute_result"
    }
   ],
   "source": [
    "formula = pilimg.open(\"C:\\\\Users\\\\Msi\\\\Desktop\\\\통계 프로그래밍 연습\\\\F 검정에 대한 공식.png\")\n",
    "formula"
   ]
  },
  {
   "cell_type": "code",
   "execution_count": 4,
   "metadata": {},
   "outputs": [],
   "source": [
    "def F_test_cv(s1, s2, n1, n2, alpha, side_type):\n",
    "    s = {s1:n1, s2:n2}\n",
    "    F = math.pow(max(s), 2) / math.pow(min(s), 2)\n",
    "    dfN = s.get(max(s.keys()))-1\n",
    "    dfD = s.get(min(s.keys()))-1\n",
    "    \n",
    "    if side_type == 'left':\n",
    "        cv = f.ppf(alpha, dfN, dfD)\n",
    "        if F < cv:\n",
    "            print(\"검정값 {:.3f}이 임계값 {:.3f} 안에 포함되기 때문에 귀무가설을 기각한다.\".format(F, cv))\n",
    "        else:\n",
    "            print(\"검정값 {:.3f}이 임계값 {:.3f} 밖에 있기 때문에 귀무가설을 기각하지 않는다.\".format(F, cv))    \n",
    "    elif side_type == 'right':\n",
    "        cv = f.ppf(1-alpha, dfN, dfD)\n",
    "        if cv < F:\n",
    "            print(\"검정값 {:.3f}이 임계값 {:.3f} 안에 포함되기 때문에 귀무가설을 기각한다.\".format(F, cv))\n",
    "        else:\n",
    "            print(\"검정값 {:.3f}이 임계값 {:.3f} 밖에 있기 때문에 귀무가설을 기각하지 않는다.\".format(F, cv))\n",
    "    elif side_type == 'both':\n",
    "        cv_left = f.ppf(alpha/2, dfN, dfD)\n",
    "        cv_right = f.ppf(1-(alpha/2), dfN, dfD)\n",
    "        if F < cv_left:\n",
    "            print(\"검정값 {:.3f}이 임계값 {:.3f} 안에 포함되기 때문에 귀무가설을 기각한다.\".format(F, cv_left))\n",
    "        elif cv_right <= F:\n",
    "            print(\"검정값 {:.3f}이 임계값 {:.3f} 안에 포함되기 때문에 귀무가설을 기각한다.\".format(F, cv_right))\n",
    "        else:\n",
    "            print(\"검정값 {:.3f}이 임계값 {:.3f}와 임계값 {:.3f} 사이에 있기 때문에 귀무가설을 기각하지 않는다.\".format(F, cv_left, cv_right))\n",
    "    else:\n",
    "        print(\"side_type을 left, right, both 중에 골라주세요.\")"
   ]
  },
  {
   "cell_type": "code",
   "execution_count": 5,
   "metadata": {},
   "outputs": [
    {
     "name": "stdout",
     "output_type": "stream",
     "text": [
      "검정값 3.600이 임계값 2.778 안에 포함되기 때문에 귀무가설을 기각한다.\n"
     ]
    }
   ],
   "source": [
    "F_test_cv(6, 10**(1/2), 26, 15, 0.05, 'both')"
   ]
  },
  {
   "cell_type": "code",
   "execution_count": 6,
   "metadata": {},
   "outputs": [
    {
     "name": "stdout",
     "output_type": "stream",
     "text": [
      "검정값 1.306이 임계값 3.312 밖에 있기 때문에 귀무가설을 기각하지 않는다.\n"
     ]
    }
   ],
   "source": [
    "F_test_cv(32, 28, 16, 18, 0.01, 'right')"
   ]
  }
 ],
 "metadata": {
  "kernelspec": {
   "display_name": "Python 3",
   "language": "python",
   "name": "python3"
  },
  "language_info": {
   "codemirror_mode": {
    "name": "ipython",
    "version": 3
   },
   "file_extension": ".py",
   "mimetype": "text/x-python",
   "name": "python",
   "nbconvert_exporter": "python",
   "pygments_lexer": "ipython3",
   "version": "3.7.6"
  }
 },
 "nbformat": 4,
 "nbformat_minor": 4
}

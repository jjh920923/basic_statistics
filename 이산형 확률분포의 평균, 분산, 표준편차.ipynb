{
 "cells": [
  {
   "cell_type": "code",
   "execution_count": 1,
   "metadata": {},
   "outputs": [],
   "source": [
    "import pandas as pd\n",
    "import PIL.Image as pilimg\n",
    "import math"
   ]
  },
  {
   "cell_type": "code",
   "execution_count": 2,
   "metadata": {},
   "outputs": [
    {
     "data": {
      "image/png": "[encoded data removed]",
      "text/plain": [
       "<PIL.PngImagePlugin.PngImageFile image mode=RGBA size=481x110 at 0x2538F534688>"
      ]
     },
     "execution_count": 2,
     "metadata": {},
     "output_type": "execute_result"
    }
   ],
   "source": [
    "formula = pilimg.open(\"C:\\\\Users\\\\Msi\\\\Desktop\\\\통계 프로그래밍 연습\\\\이산형 확률분포의 평균, 분산, 표준편차.png\")\n",
    "formula"
   ]
  },
  {
   "cell_type": "code",
   "execution_count": 7,
   "metadata": {},
   "outputs": [],
   "source": [
    "def discrete_probability_distribution(df):\n",
    "    mean = 0\n",
    "    x_square_mul_prob = 0\n",
    "    for i in range(0, len(df)):\n",
    "        mean = mean + df.iloc[:,0][i] * df.iloc[:,1][i]\n",
    "        x_square_mul_prob = x_square_mul_prob + (math.pow(df.iloc[:,0][i], 2) * df.iloc[:,1][i])\n",
    "    var = x_square_mul_prob - math.pow(mean, 2)\n",
    "    std = math.sqrt(var)\n",
    "    print(\"-------------\")\n",
    "    print(\"mean : \" + format(mean, \".3f\"))\n",
    "    print(\"var  : \" + format(var, \".3f\"))\n",
    "    print(\"std  : \" + format(std, \".3f\"))\n",
    "    print(\"-------------\")"
   ]
  },
  {
   "cell_type": "code",
   "execution_count": 8,
   "metadata": {},
   "outputs": [
    {
     "name": "stdout",
     "output_type": "stream",
     "text": [
      "-------------\n",
      "mean : 0.150\n",
      "var  : 0.307\n",
      "std  : 0.555\n",
      "-------------\n"
     ]
    }
   ],
   "source": [
    "data = {\"X\":[0, 1, 2, 3], \"prob\":[0.92, 0.03, 0.03, 0.02]}\n",
    "df = pd.DataFrame(data)\n",
    "discrete_probability_distribution(df)"
   ]
  },
  {
   "cell_type": "code",
   "execution_count": 10,
   "metadata": {
    "scrolled": true
   },
   "outputs": [
    {
     "name": "stdout",
     "output_type": "stream",
     "text": [
      "-------------\n",
      "mean : 20.800\n",
      "var  : 1.560\n",
      "std  : 1.249\n",
      "-------------\n"
     ]
    }
   ],
   "source": [
    "data1 = {\"X\":[19, 20, 21, 22, 23], \"prob\":[0.2, 0.2, 0.3, 0.2, 0.1]}\n",
    "df1 = pd.DataFrame(data1)\n",
    "discrete_probability_distribution(df1)"
   ]
  },
  {
   "cell_type": "code",
   "execution_count": 11,
   "metadata": {},
   "outputs": [
    {
     "name": "stdout",
     "output_type": "stream",
     "text": [
      "-------------\n",
      "mean : 1.590\n",
      "var  : 1.262\n",
      "std  : 1.123\n",
      "-------------\n"
     ]
    }
   ],
   "source": [
    "data2 = {\"X\":[0, 1, 2, 3, 4], \"prob\":[0.18, 0.34, 0.23, 0.21, 0.04]}\n",
    "df2 = pd.DataFrame(data2)\n",
    "discrete_probability_distribution(df2)"
   ]
  }
 ],
 "metadata": {
  "kernelspec": {
   "display_name": "Python 3",
   "language": "python",
   "name": "python3"
  },
  "language_info": {
   "codemirror_mode": {
    "name": "ipython",
    "version": 3
   },
   "file_extension": ".py",
   "mimetype": "text/x-python",
   "name": "python",
   "nbconvert_exporter": "python",
   "pygments_lexer": "ipython3",
   "version": "3.7.6"
  }
 },
 "nbformat": 4,
 "nbformat_minor": 4
}

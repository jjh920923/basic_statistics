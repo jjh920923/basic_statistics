{
 "cells": [
  {
   "cell_type": "code",
   "execution_count": 1,
   "metadata": {},
   "outputs": [],
   "source": [
    "import math\n",
    "import pandas as pd\n",
    "from scipy.special import stdtrit\n",
    "import PIL.Image as pilimg"
   ]
  },
  {
   "cell_type": "code",
   "execution_count": 2,
   "metadata": {},
   "outputs": [
    {
     "data": {
      "image/png": "[encoded data removed]",
      "text/plain": [
       "<PIL.PngImagePlugin.PngImageFile image mode=RGBA size=452x198 at 0x2847CDC9C48>"
      ]
     },
     "execution_count": 2,
     "metadata": {},
     "output_type": "execute_result"
    }
   ],
   "source": [
    "formula = pilimg.open(\"C:\\\\Users\\\\Msi\\\\Desktop\\\\통계 프로그래밍 연습\\\\두 평균의 차이 검정(종속표본).png\")\n",
    "formula"
   ]
  },
  {
   "cell_type": "code",
   "execution_count": 3,
   "metadata": {},
   "outputs": [],
   "source": [
    "data = {\"before\" : [210, 230, 182, 205, 262, 253, 219, 216], \"after\" : [219, 236, 179, 204, 270, 250, 222, 216]}\n",
    "df = pd.DataFrame(data)"
   ]
  },
  {
   "cell_type": "code",
   "execution_count": 4,
   "metadata": {},
   "outputs": [],
   "source": [
    "def T_test_cv(df, alpha, side_type):\n",
    "    D = 0\n",
    "    D_square = 0\n",
    "    n = len(df)\n",
    "    for i, j in zip(df.iloc[:,0], df.iloc[:,1]):\n",
    "        D = D + (i - j)\n",
    "        D_square = D_square + math.pow((i-j), 2)\n",
    "    D_mean = D / n\n",
    "    S_D = math.sqrt((n*D_square - math.pow(D, 2)) / (n*(n-1)))\n",
    "\n",
    "    t = D_mean / (S_D / math.sqrt(n))\n",
    "    \n",
    "    if side_type == 'right':\n",
    "        cv = stdtrit(n-1, 1-alpha)\n",
    "        if cv <= t:\n",
    "            print(\"검정값 {:.3f}이 임계값 {:.3f} 안에 포함되기 때문에 귀무가설을 기각한다.\".format(t, cv))\n",
    "        else:\n",
    "            print(\"검정값 {:.3f}이 임계값 {:.3f} 밖에 있기 때문에 귀무가설을 기각하지 않는다.\".format(t, cv))\n",
    "    elif side_type == 'left':\n",
    "        cv = stdtrit(n-1, alpha)\n",
    "        if t <= cv:\n",
    "            print(\"검정값 {:.3f}이 임계값 {:.3f} 안에 포함되기 때문에 귀무가설을 기각한다.\".format(t, cv))\n",
    "        else:\n",
    "            print(\"검정값 {:.3f}이 임계값 {:.3f} 밖에 있기 때문에 귀무가설을 기각하지 않는다.\".format(t, cv))\n",
    "    elif side_type == 'both':\n",
    "        cv_left = stdtrit(n-1, alpha/2)\n",
    "        cv_right = stdtrit(n-1, 1-(alpha/2))\n",
    "        if t <= cv_left:\n",
    "            print(\"검정값 {:.3f}이 임계값 {:.3f} 안에 포함되기 때문에 귀무가설을 기각한다.\".format(t, cv_left))\n",
    "        elif cv_right <= t:\n",
    "            print(\"검정값 {:.3f}이 임계값 {:.3f} 안에 포함되기 때문에 귀무가설을 기각한다.\".format(t, cv_right))\n",
    "        else:\n",
    "            print(\"검정값 {:.3f}이 임계값 {:.3f}와 임계값 {:.3f} 사이에 있기 때문에 귀무가설을 기각하지 않는다.\".format(t, cv_left, cv_right))\n",
    "    else:\n",
    "        print(\"side_type을 left, right, both 중에 골라주세요.\")"
   ]
  },
  {
   "cell_type": "code",
   "execution_count": 5,
   "metadata": {},
   "outputs": [
    {
     "name": "stdout",
     "output_type": "stream",
     "text": [
      "검정값 -1.388이 임계값 -1.895 밖에 있기 때문에 귀무가설을 기각하지 않는다.\n"
     ]
    }
   ],
   "source": [
    "T_test_cv(df, 0.05, 'left')"
   ]
  }
 ],
 "metadata": {
  "kernelspec": {
   "display_name": "Python 3",
   "language": "python",
   "name": "python3"
  },
  "language_info": {
   "codemirror_mode": {
    "name": "ipython",
    "version": 3
   },
   "file_extension": ".py",
   "mimetype": "text/x-python",
   "name": "python",
   "nbconvert_exporter": "python",
   "pygments_lexer": "ipython3",
   "version": "3.7.6"
  }
 },
 "nbformat": 4,
 "nbformat_minor": 4
}

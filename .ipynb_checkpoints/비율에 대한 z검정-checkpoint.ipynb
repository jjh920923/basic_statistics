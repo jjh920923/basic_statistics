{
 "cells": [
  {
   "cell_type": "code",
   "execution_count": 1,
   "metadata": {},
   "outputs": [],
   "source": [
    "import math\n",
    "import scipy.stats as st\n",
    "import PIL.Image as pilimg"
   ]
  },
  {
   "cell_type": "code",
   "execution_count": 2,
   "metadata": {},
   "outputs": [
    {
     "data": {
      "image/png": "[encoded data removed]",
      "text/plain": [
       "<PIL.PngImagePlugin.PngImageFile image mode=RGBA size=132x123 at 0x1F4D51EE088>"
      ]
     },
     "execution_count": 2,
     "metadata": {},
     "output_type": "execute_result"
    }
   ],
   "source": [
    "formula = pilimg.open(\"C:\\\\Users\\\\Msi\\\\Desktop\\\\통계 프로그래밍 연습\\\\비율에 대한 z검정 공식.png\")\n",
    "formula"
   ]
  },
  {
   "cell_type": "code",
   "execution_count": 3,
   "metadata": {},
   "outputs": [],
   "source": [
    "def Z_test_cv(p_hat, p, n, alpha, side_type):\n",
    "    z = (p_hat - p) / math.sqrt((p*(1-p))/n)\n",
    "    if side_type == 'left':\n",
    "        cv = st.norm.ppf(alpha)\n",
    "        if z <= cv:\n",
    "            print(\"검정값 {:.3f}이 임계값 {:.3f} 안에 포함되기 때문에 귀무가설을 기각한다.\".format(z, cv))\n",
    "        else:\n",
    "            print(\"검정값 {:.3f}이 임계값 {:.3f} 밖에 있기 때문에 귀무가설을 기각하지 않는다.\".format(z, cv))\n",
    "    elif side_type == 'right':\n",
    "        cv = st.norm.ppf(1-alpha)\n",
    "        if cv <= z:\n",
    "            print(\"검정값 {:.3f}이 임계값 {:.3f} 안에 포함되기 때문에 귀무가설을 기각한다.\".format(z, cv))\n",
    "        else:\n",
    "            print(\"검정값 {:.3f}이 임계값 {:.3f} 밖에 있기 때문에 귀무가설을 기각하지 않는다.\".format(z, cv))\n",
    "    elif side_type == 'both':\n",
    "        cv_left = st.norm.ppf(alpha/2)\n",
    "        cv_right = st.norm.ppf(1-(alpha/2))\n",
    "        if z <= cv_left:\n",
    "            print(\"검정값 {:.3f}이 임계값 {:.3f} 안에 포함되기 때문에 귀무가설을 기각한다.\".format(z, cv_left))\n",
    "        elif cv_right <= z:\n",
    "            print(\"검정값 {:.3f}이 임계값 {:.3f} 안에 포함되기 때문에 귀무가설을 기각한다.\".format(z, cv_right))\n",
    "        else:\n",
    "            print(\"검정값 {:.3f}이 임계값 {:.3f}와 {:.3f} 사이에 있기 때문에 귀무가설을 기각하지 않는다.\".format(z, cv_left, cv_right))\n",
    "    else:\n",
    "        print(\"side_type을 left, right, both 중에 골라주세요.\")"
   ]
  },
  {
   "cell_type": "code",
   "execution_count": 4,
   "metadata": {},
   "outputs": [
    {
     "name": "stdout",
     "output_type": "stream",
     "text": [
      "검정값 -0.612이 임계값 -2.576와 2.576 사이에 있기 때문에 귀무가설을 기각하지 않는다.\n"
     ]
    }
   ],
   "source": [
    "Z_test_cv(0.37, 0.4, 100, 0.01, 'both')"
   ]
  },
  {
   "cell_type": "code",
   "execution_count": 5,
   "metadata": {},
   "outputs": [
    {
     "name": "stdout",
     "output_type": "stream",
     "text": [
      "검정값 -1.753이 임계값 -2.326 밖에 있기 때문에 귀무가설을 기각하지 않는다.\n"
     ]
    }
   ],
   "source": [
    "Z_test_cv(0.6875, 0.77, 80, 0.01, 'left')"
   ]
  },
  {
   "cell_type": "code",
   "execution_count": 6,
   "metadata": {},
   "outputs": [
    {
     "name": "stdout",
     "output_type": "stream",
     "text": [
      "검정값 2.123이 임계값 1.645 안에 포함되기 때문에 귀무가설을 기각한다.\n"
     ]
    }
   ],
   "source": [
    "Z_test_cv(0.315, 0.25, 200, 0.05, 'right')"
   ]
  }
 ],
 "metadata": {
  "kernelspec": {
   "display_name": "Python 3",
   "language": "python",
   "name": "python3"
  },
  "language_info": {
   "codemirror_mode": {
    "name": "ipython",
    "version": 3
   },
   "file_extension": ".py",
   "mimetype": "text/x-python",
   "name": "python",
   "nbconvert_exporter": "python",
   "pygments_lexer": "ipython3",
   "version": "3.7.6"
  }
 },
 "nbformat": 4,
 "nbformat_minor": 4
}

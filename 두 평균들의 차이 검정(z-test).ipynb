{
 "cells": [
  {
   "cell_type": "code",
   "execution_count": 1,
   "metadata": {},
   "outputs": [],
   "source": [
    "import math\n",
    "import scipy.stats as st\n",
    "import PIL.Image as pilimg"
   ]
  },
  {
   "cell_type": "code",
   "execution_count": 2,
   "metadata": {},
   "outputs": [
    {
     "data": {
      "image/png": "[encoded data removed]",
      "text/plain": [
       "<PIL.PngImagePlugin.PngImageFile image mode=RGBA size=333x150 at 0x1A096021F08>"
      ]
     },
     "execution_count": 2,
     "metadata": {},
     "output_type": "execute_result"
    }
   ],
   "source": [
    "formula = pilimg.open(\"C:\\\\Users\\\\Msi\\\\Desktop\\\\통계 프로그래밍 연습\\\\두 평균들의 차이 검정(z검정).png\")\n",
    "formula"
   ]
  },
  {
   "cell_type": "code",
   "execution_count": 3,
   "metadata": {},
   "outputs": [],
   "source": [
    "# 두 평균의 차이를 결정하기 위한 검정에 대한 가정들\n",
    "# 1. 표본들은 서로 독립이어야 한다. 즉, 각 표본에서 개체들은 관계가 있을 수 없다.\n",
    "# 2. 두 모집단의 표준편차는 알고 있어야 하고 만약 표본크기가 30미만이면 모집단들은 정규분포를\n",
    "#    하거나 근사적으로 정규분포를 해야 한다.\n",
    "\n",
    "def Z_test_cv(X1, X2, mu1, mu2, sigma1, sigma2, n1, n2, alpha, side_type):\n",
    "    z = ((X1 - X2) - (mu1 - mu2)) / ((math.sqrt(math.pow(sigma1, 2)/n1 + math.pow(sigma2, 2)/n2)))\n",
    "    if side_type == 'left':\n",
    "        cv = st.norm.ppf(alpha)\n",
    "        if z <= cv:\n",
    "            print(\"검정값 {:.3f}이 임계값 {:.3f} 안에 포함되기 때문에 귀무가설을 기각한다.\".format(z, cv))\n",
    "        else:\n",
    "            print(\"검정값 {:.3f}이 임계값은 {:.3f} 밖에 있기 때문에 귀무가설을 기각하지 않는다.\".format(z, cv))\n",
    "    elif side_type == 'right':\n",
    "        cv = st.norm.ppf(1-alpha)\n",
    "        if cv <= z:\n",
    "            print(\"검정값 {:.3f}이 임계값 {:.3f} 안에 포함되기 때문에 귀무가설을 기각한다.\".format(z, cv))\n",
    "        else:\n",
    "            print(\"검정값 {:.3f}이 임계값 {:.3f} 밖에 있기 때문에 귀무가설을 기각하지 않는다.\".format(z, cv))\n",
    "    elif side_type == 'both':\n",
    "        cv_left = st.norm.ppf(alpha/2)\n",
    "        cv_right = st.norm.ppf(1-(alpha/2))\n",
    "        if z <= cv_left:\n",
    "            print(\"검정값 {:.3f}이 임계값 {:.3f} 안에 포함되기 때문에 귀무가설을 기각한다.\".format(z, cv_left))\n",
    "        elif cv_right <= z:\n",
    "            print(\"검정값 {:.3f}이 임계값 {:.3f} 안에 포함되기 때문에 귀무가설을 기각한다.\".format(z, cv_right))\n",
    "        else:\n",
    "            print(\"검정값 {:.3f}이 임계값 {:.3f}와 임계값 {:.3f} 사이에 있기 때문에 귀무가설을 기각하지 않는다.\".format(z, cv_left, cv_right))\n",
    "    else:\n",
    "        print(\"side_type을 left, right, both 중에 골라주세요.\")"
   ]
  },
  {
   "cell_type": "code",
   "execution_count": 4,
   "metadata": {},
   "outputs": [
    {
     "name": "stdout",
     "output_type": "stream",
     "text": [
      "검정값 7.452이 임계값 1.960 안에 포함되기 때문에 귀무가설을 기각한다.\n"
     ]
    }
   ],
   "source": [
    "Z_test_cv(88.42, 80.61, 0, 0, 5.62, 4.83, 50, 50, 0.05, 'both')"
   ]
  },
  {
   "cell_type": "code",
   "execution_count": 5,
   "metadata": {},
   "outputs": [
    {
     "name": "stdout",
     "output_type": "stream",
     "text": [
      "검정값 1.061이 임계값 1.282 밖에 있기 때문에 귀무가설을 기각하지 않는다.\n"
     ]
    }
   ],
   "source": [
    "Z_test_cv(8.6, 7.9, 0, 0, 3.3, 3.3, 50, 50, 0.1, 'right')"
   ]
  }
 ],
 "metadata": {
  "kernelspec": {
   "display_name": "Python 3",
   "language": "python",
   "name": "python3"
  },
  "language_info": {
   "codemirror_mode": {
    "name": "ipython",
    "version": 3
   },
   "file_extension": ".py",
   "mimetype": "text/x-python",
   "name": "python",
   "nbconvert_exporter": "python",
   "pygments_lexer": "ipython3",
   "version": "3.7.6"
  }
 },
 "nbformat": 4,
 "nbformat_minor": 4
}

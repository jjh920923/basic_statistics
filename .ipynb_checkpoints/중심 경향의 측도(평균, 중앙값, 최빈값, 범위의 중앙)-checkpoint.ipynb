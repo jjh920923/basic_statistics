{
 "cells": [
  {
   "cell_type": "code",
   "execution_count": 1,
   "metadata": {},
   "outputs": [],
   "source": [
    "# Counter 함수는 리스트 안에 원소의 갯수를 딕셔너리 형태로 나타낸다.\n",
    "import statistics\n",
    "from collections import Counter"
   ]
  },
  {
   "cell_type": "code",
   "execution_count": 2,
   "metadata": {},
   "outputs": [],
   "source": [
    "data = [104, 104, 104, 104, 104, 107, 109, 109, 109, 110, 109, 111, 112, 111]"
   ]
  },
  {
   "cell_type": "code",
   "execution_count": 3,
   "metadata": {},
   "outputs": [],
   "source": [
    "def measures_of_central_tendency(data):\n",
    "    data = sorted(data)\n",
    "    mean = sum(data) / len(data)\n",
    "    if (len(data) % 2) == 1:\n",
    "        median = data[int((len(data) - 1) / 2)]\n",
    "    else:\n",
    "        median = int((data[int(len(data)/ 2)] + data[int(len(data)/ 2) - 1]) / 2)\n",
    "    mode = max(Counter(data), key = Counter(data).get)\n",
    "    midrange = (min(data) + max(data)) / 2\n",
    "    print(\"-----------------\")\n",
    "    print(\"mean     : \" + str(format(mean, \".1f\")))\n",
    "    print(\"median   : \" + str(format(median, \".1f\")))\n",
    "    print(\"mode     : \" + str(format(mode, \".1f\")))\n",
    "    print(\"midrange : \" + str(format(midrange, \".31\")))\n",
    "    print(\"-----------------\")"
   ]
  },
  {
   "cell_type": "code",
   "execution_count": 4,
   "metadata": {},
   "outputs": [],
   "source": [
    "# 위와 같이 수식으로 구현할 수 있지만 통계 라이브러리인 statistics를 사용하면\n",
    "# 더 쉽게 나타낼 수 있다.\n",
    "def measures_of_central_tendency_simple(data):\n",
    "    mean = statistics.mean(data)\n",
    "    median = statistics.median(data)\n",
    "    mode = statistics.mode(data)\n",
    "    midrange = (min(data) + max(data)) / 2\n",
    "    print(\"-----------------\")\n",
    "    print(\"mean     : \" + str(format(mean, \".1f\")))\n",
    "    print(\"median   : \" + str(format(median, \".1f\")))\n",
    "    print(\"mode     : \" + str(format(mode, \".1f\")))\n",
    "    print(\"midrange : \" + str(format(midrange, \".31\")))\n",
    "    print(\"-----------------\")"
   ]
  },
  {
   "cell_type": "code",
   "execution_count": 5,
   "metadata": {},
   "outputs": [
    {
     "name": "stdout",
     "output_type": "stream",
     "text": [
      "-----------------\n",
      "mean     : 107.6\n",
      "median   : 109.0\n",
      "mode     : 104.0\n",
      "midrange : 108.0\n",
      "-----------------\n"
     ]
    }
   ],
   "source": [
    "measures_of_central_tendency(data)"
   ]
  },
  {
   "cell_type": "code",
   "execution_count": 6,
   "metadata": {},
   "outputs": [
    {
     "name": "stdout",
     "output_type": "stream",
     "text": [
      "-----------------\n",
      "mean     : 107.6\n",
      "median   : 109.0\n",
      "mode     : 104.0\n",
      "midrange : 108.0\n",
      "-----------------\n"
     ]
    }
   ],
   "source": [
    "measures_of_central_tendency_simple(data)"
   ]
  }
 ],
 "metadata": {
  "kernelspec": {
   "display_name": "Python 3",
   "language": "python",
   "name": "python3"
  },
  "language_info": {
   "codemirror_mode": {
    "name": "ipython",
    "version": 3
   },
   "file_extension": ".py",
   "mimetype": "text/x-python",
   "name": "python",
   "nbconvert_exporter": "python",
   "pygments_lexer": "ipython3",
   "version": "3.7.6"
  }
 },
 "nbformat": 4,
 "nbformat_minor": 4
}
